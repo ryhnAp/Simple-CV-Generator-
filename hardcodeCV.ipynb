import subprocess

def create_cv(name, career, ambitions, contact_info, skills, languages):
    latex_code = r"""
    \documentclass[a4paper,10pt]{article}
    \usepackage[utf8]{inputenc}
    \usepackage[T1]{fontenc}
    \usepackage{geometry}
    \usepackage{titlesec}
    \usepackage{enumitem}
    \usepackage{hyperref}
    \usepackage{array}
    \usepackage{xcolor}
    \usepackage{tikz}
    \usepackage{multicol}
    \usepackage{tabularx}
    \usepackage{nopageno}  % Package to remove page numbers

    % Page geometry
    \geometry{a4paper, left=0.0in, right=0.5in, top=0.5in, bottom=0.5in}  % Reduce margins

    % Title format
    \titleformat{\section}{\normalsize\bfseries\color{purple}}{\thesection}{1em}{}
    \titlespacing*{\section}{0pt}{8pt}{4pt}

    % Subtitle format
    \newcommand{\subsectioncolor}[2]{\textcolor{#1}{\textbf{#2}}}

    % Remove numbering from sections
    \setcounter{secnumdepth}{0}

    % Define colors
    \definecolor{myorange}{RGB}{255, 153, 51}
    \definecolor{mygray}{gray}{0.5}
    \definecolor{purple}{RGB}{128, 0, 128}
    \definecolor{pedagcolor}{gray}{0.5}
    \definecolor{leisurecolor}{gray}{0.5}
    \definecolor{instrucolor}{gray}{0.5}

    % Links color
    \hypersetup{
        colorlinks=true,
        linkcolor=black,
        filecolor=black,
        urlcolor=mygray,
    }

    % Custom column settings
    \newcolumntype{L}[1]{>{\raggedright\arraybackslash}p{#1}}
    \newcolumntype{C}[1]{>{\centering\arraybackslash}p{#1}}
    \newcolumntype{R}[1]{>{\raggedleft\arraybackslash}p{#1}}

    % Skill bar with smaller width and font
    \newcommand{\skillbar}[3]{
        \begin{minipage}[t]{#1}
            \textbf{#2}\\
            \begin{tikzpicture}
                \filldraw[fill=purple!80!white, draw=purple] (0, 0) rectangle (#3*1.5, 0.3);  % Adjust width scale factor
                \filldraw[fill=purple!20!white, draw=purple] (#3*1.5, 0) rectangle (1.5, 0.3);
            \end{tikzpicture}
        \end{minipage}
    }

    % Language bar with smaller width and font
    \newcommand{\languagebar}[3]{
        \begin{minipage}[t]{#1}
            \textbf{#2}\\
            \begin{tikzpicture}
                \filldraw[fill=purple!80!white, draw=purple] (0, 0) rectangle (#3*1.5, 0.3);  % Adjust width scale factor
                \filldraw[fill=purple!20!white, draw=purple] (#3*1.5, 0) rectangle (1.5, 0.3);
            \end{tikzpicture}
        \end{minipage}
    }

    \begin{document}
    \pagestyle{empty}  % Remove page number

    % Header part with adjusted columns and left-aligned contact info
    \begin{tabularx}{\textwidth}{L{0.25\textwidth} L{0.35\textwidth} C{0.1\textwidth} X}
        % First column: picture part (placeholder for now)
        [Picture Placeholder] &
        % Second column: name, career, and ambitions
        \begin{tabular}[t]{@{}l@{}}
            \textbf{\LARGE """ + name + r"""}\\
            """ + career + r"""\\
            \vspace{5pt}
            \textit{""" + ambitions + r"""}
        \end{tabular} &
        % Third column: empty
        &
        % Fourth column: contact information
        \begin{tabular}[t]{@{}l@{}}
            \parbox[t]{\linewidth}{
                Tehran, Iran\\
                09050332772\\
                rynhap@gmail.com\\
                \texttt{\url{linkedin.com/in/ryhnap}}\\
                \texttt{\url{stackoverflow.com/users/15634507/ryhn}}
            }
        \end{tabular}
    \end{tabularx}

    \vspace{10pt}

    % Body part with adjusted columns
    \begin{tabularx}{\textwidth}{L{0.35\textwidth} X}
        % First column: Interests, Skills, Languages, Achievements
        \begin{minipage}[t]{0.35\textwidth}

            \section*{Skills}
            \begin{multicols}{2}
                \small
                \skillbar{0.45\textwidth}{C}{0.8}
                \skillbar{0.45\textwidth}{C++}{0.7}
                \skillbar{0.45\textwidth}{Python}{0.9}
                \skillbar{0.45\textwidth}{Java}{0.85}
                \skillbar{0.45\textwidth}{HTML}{0.75}
                \skillbar{0.45\textwidth}{CSS}{0.7}
                \skillbar{0.45\textwidth}{JavaScript}{0.8}
                \skillbar{0.45\textwidth}{Verilog}{0.6}
                \skillbar{0.45\textwidth}{System Verilog}{0.6}
                \skillbar{0.45\textwidth}{R}{0.7}
                \skillbar{0.45\textwidth}{Matlab}{0.7}
                \skillbar{0.45\textwidth}{Linux}{0.8}
                \skillbar{0.45\textwidth}{SQL}{0.75}
            \end{multicols}

            \section*{Interests}
            \subsectioncolor{pedagcolor}{Pedagogical Activities}\\
            AI, game programming, math, geometry, IT, Security, test, web/app development\\
            \subsectioncolor{leisurecolor}{Leisure Activities}\\
            sport, book, movie, literature\\
            \subsectioncolor{instrucolor}{Instrumental Activities}\\
            Violin

            \section*{Achievements}
            Bachelor's Degree in Computer Engineering\\
            {\footnotesize\textit{Graduated on June 7, 2024}}\\
            Developer at Dotin Company\\
            {\footnotesize\textit{From July 2022 to July 2024}}

            \section*{Languages}
            \begin{multicols}{2}
                \small
                \languagebar{0.45\textwidth}{English}{0.8}
                \languagebar{0.45\textwidth}{Korean}{0.4}
                \languagebar{0.45\textwidth}{Arabic}{0.5}
            \end{multicols}

        \end{minipage} &
        % Second column: Experience, Education, Projects
        \begin{minipage}[t]{0.65\textwidth}
            \section*{Experience}

            \subsection*{Open Bookshelf - Discrete Mathematics Persian Book}
            \textit{Designer and Checker \hfill 03/2021 - 07/2021}\\
            Tehran, Iran

            Open Bookshelf is a great platform dedicated to providing equal and high-quality Discrete Mathematics content for Persian speakers for free, ensuring direct interaction with end-users.
As a Designer and Checker, I was responsible for analyzing the book content, collaborating with the creative department, preparing proposals to link ideas with problems, and simplifying the solutions. My goal was to manage the project to create a delightful user experience and ensure the design was correct.

Contact: Behzad Shayegh - behzad.shayegh@ut.ac.ir

            \subsection*{Developer at Dotin}
            \textit{Back End Java Developer, Unit and E2E Tester, Front End Developer (React) \hfill 07/2022 - 07/2024}

            Developed and maintained robust back end services using Java and Spring framework for API web development.
Conducted unit testing and end-to-end (E2E) testing to ensure the quality and reliability of the applications.
Worked on the front end using React to create user-friendly and responsive web interfaces.

            \section*{Education}
            \subsection*{Bachelor of Science in Computer Engineering}
            \textit{The University of Tehran, Tehran \hfill Graduated on June 7, 2024}
            \begin{itemize}[leftmargin=*]
              \item Advanced Programming, Artificial Intelligence, Computer Architecture, Digital Logic Design, Programming Languages and Compilers, Introduction to Computing Systems and Programming, Discrete Mathematics, Data Structure \& Algorithms, Information Technology Project Management, Data Structure, Computer Networking, Database, Test, Engineering Economy, Software Engineering, Embedded Systems Cyber-Physical Systems, Distributed System, Technical English, Internet Engineering, Electronic Commerce, Electric Workshop, Information Theory
            \end{itemize}


            \section*{Projects}
            \subsection*{I/O \& Vector/Encrypt\&Decrypt Simple \& Complicated Password/Top-Down Design/Semester Course Suggestion}
            \textit{UT-AP \hfill 02/2020 - 02/2020}
            \begin{itemize}[leftmargin=*]
              \item Hash cracking by key password \& generating hash. Giving suggestions to pick courses in each semester based on grades and course prerequisites.
            \end{itemize}

            \subsection*{Recursion/Cryptography\&Interview\&Max Path}
            \textit{US-D\&BA \hfill 03/2020 - 03/2020}
            \begin{itemize}[leftmargin=*]
              \item Using recursion, save us time and memory to solve problems.
            \end{itemize}

            \subsection*{Object-Oriented Design/GoodReads}
            \textit{UT-AP \hfill 03/2020 - 03/2020}
            \begin{itemize}[leftmargin=*]
              \item Analysis some data from GoodReads website.
            \end{itemize}

        \end{minipage}
    \end{tabularx}

        \newpage

        \subsection*{Game/Othello\&Tictactoe\&FieldRunners}
        \textit{UT-AP \hfill 12/2018 - 01/2019}
        \begin{itemize}[leftmargin=*]
          \item Simple implementation of Field Runner game using SDL library wrapper RSDL.
        \end{itemize}

        \subsection*{Web/UTRIP}
        \textit{UT-AP \hfill 03/2019 - 03/2019}
        \begin{itemize}[leftmargin=*]
          \item A simple hotel reservation system which can recommend hotels based on your previous activities.
        \end{itemize}


                \subsection*{C--}
        \textit{UT-Compiler \hfill 09/2021 - 12/2021}
        \begin{itemize}[leftmargin=*]
            \item Compiler base on some new rules.
        \end{itemize}

        \subsection*{Restoring Divider/Single-Cycle \& Multi-Cycle MIPS \& Pipe-Line Processor}
        \textit{UT-CA \hfill 07/2021 - 12/2021}
        \begin{itemize}[leftmargin=*]
            \item Making divider logically. Making Processor with two memory and one register file. Making Processor using one memory. Read all instruction immediately.
        \end{itemize}

        \subsection*{NS3}
        \textit{UT-CN \hfill Jan 12, 2023}
        \begin{itemize}[leftmargin=*]
            \item Simulate a wireless network using the 3-ns simulation tool and analyze its various criteria.
        \end{itemize}

        \subsection*{FTP, RFTP, Chatroom, Web Server}
        \textit{UT-CN \hfill Jan 12, 2023}
        \begin{itemize}[leftmargin=*]
            \item Basic concepts of Socket programming, and how to design program and their relations so that we implement 3 phases with one Local Host and several Ports.
        \end{itemize}

        \subsection*{TCP, UDP}
        \textit{UT-CN \hfill Jan 12, 2023}
        \begin{itemize}[leftmargin=*]
            \item This project involved understanding the fundamental differences between TCP and UDP, highlighting TCP's connection-oriented reliability and error-checking mechanisms versus UDP's speed and efficiency for real-time data. Additionally, it explored sliding window protocols, contrasting the selective re-transmission of Selective Repeat with the broader re-transmissions of Go-Back-N.
        \end{itemize}

        \subsection*{BALOOT}
        \textit{UT-IE\&Test \hfill Apr 2023 - Jun 2023}
        \begin{itemize}[leftmargin=*]
            \item I have experience in web development, specifically working on the backend of a project named Baloot using Java Spring API, along with front-end development using React. My role included extensive unit testing and API testing utilizing tools and frameworks such as Postman, JUnit, Mockito, JaCoCo, and Maven for comprehensive testing. I employed various testing techniques including input space partitioning, logic-based testing, and mutation coverage testing. Additionally, I used Katalon Recorder for automated testing. Throughout the development process, I maintained the project pipeline using Git. The front end of the project was fully implemented with React, ensuring a seamless and responsive user interface.
        \end{itemize}

        \subsection*{Android Ping Pong Game with Motion Controls Using Mobile Phone Sensors}
        \textit{UT-CPS \hfill Apr 2023 - Jun 2023}
        \begin{itemize}[leftmargin=*]
            \item In this project, I explored the Android operating system and leveraged mobile phone sensors to develop a ping pong game that uses motion controls. This included programming the phone's accelerometer and gyroscope sensors to detect and respond to player movements, providing an interactive and engaging gaming experience.
        \end{itemize}

        \subsection*{Data Transfer Protocols, Sensors, and Working with Arduino\&Proteus}
        \textit{UT-CPS \hfill Oct 2023 - Dec 2023}
        \begin{itemize}[leftmargin=*]
            \item This project involved gaining an understanding of various data transfer communication protocols and sensor technologies. It also included hands-on experience with Arduino interfaces, utilizing the Proteus simulator to design and test electronic circuits and systems involving sensors and data transfer.
        \end{itemize}

        \subsection*{AI Projects}
        \textit{UT-AI \hfill Oct 2023 - Dec 2023}
        \begin{itemize}[leftmargin=*]
            \item Genetic Subject: Recommend Polynomial function. RL Subjects: Implement FrozeLake and Taxi game respectively with methods value\&policy iteration and Q learning. Machine Learning Subject: Predicting Customer Purchase Revenue Of A Store. Convolutional Neural Networks Subject: Diagnosis of a brain tumor. Clustering Subject: News Cluster.
        \end{itemize}

    \end{document}
    """

    with open("cv_template.tex", "w") as f:
        f.write(latex_code)

    result = subprocess.run(["pdflatex", "cv_template.tex"], capture_output=True, text=True)

    if result.returncode != 0:
        print("Error in LaTeX compilation:")
        print(result.stdout)
        print(result.stderr)
    else:
        print("PDF generated successfully.")

# Example usage
name = "Reyhane Ahmadpoor"
career = "Junior Software Developer"
ambitions = "Always looking for new experiences"
contact_info = ""  # Contact info is now included directly in LaTeX code
skills = {
    "C": 0.8,
    "C++": 0.7,
    "Python": 0.9,
    "Java": 0.85,
    "HTML": 0.75,
    "CSS": 0.7,
    "JavaScript": 0.8,
    "Verilog": 0.6,
    "System Verilog": 0.6,
    "R": 0.7,
    "Matlab": 0.7,
    "Linux": 0.8,
    "SQL": 0.75
}
languages = {
    "English": 0.8,
    "Korean": 0.4,
    "Arabic": 0.5
}

create_cv(name, career, ambitions, contact_info, skills, languages)
